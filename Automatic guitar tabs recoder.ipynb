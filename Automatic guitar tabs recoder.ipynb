{
 "cells": [
  {
   "cell_type": "code",
   "execution_count": 66,
   "id": "a8cccfc5",
   "metadata": {},
   "outputs": [
    {
     "name": "stderr",
     "output_type": "stream",
     "text": [
      "C:\\ProgramData\\Anaconda3\\lib\\site-packages\\scipy\\signal\\spectral.py:1964: UserWarning: nperseg = 256 is greater than input length  = 2, using nperseg = 2\n",
      "  warnings.warn('nperseg = {0:d} is greater than input length '\n"
     ]
    },
    {
     "data": {
      "image/png": "[encoded data removed]",
      "text/plain": [
       "<Figure size 432x288 with 1 Axes>"
      ]
     },
     "metadata": {
      "needs_background": "light"
     },
     "output_type": "display_data"
    }
   ],
   "source": [
    "import scipy.io.wavfile as wavfile\n",
    "import matplotlib.pyplot as plt\n",
    "from scipy import signal\n",
    "\n",
    "# Load the WAV file\n",
    "sample_rate, samples = wavfile.read('wavs/riff_raff.wav')\n",
    "\n",
    "# Calculate the spectrogram\n",
    "frequencies, times, spectrogram = signal.spectrogram(samples, sample_rate)\n",
    "\n",
    "# Plot the spectrogram\n",
    "plt.imshow(spectrogram, aspect='auto', origin='lower',\n",
    "           cmap='hot', interpolation='nearest')\n",
    "plt.axis('off')\n",
    "plt.savefig('spectrs/spec.png', bbox_inches='tight', pad_inches=0)"
   ]
  },
  {
   "cell_type": "code",
   "execution_count": 64,
   "id": "e320ce84",
   "metadata": {},
   "outputs": [],
   "source": [
    "import guitarpro\n",
    "\n",
    "gp_file = guitarpro.parse('test2.gp5')\n",
    "\n",
    "\n",
    "tab = ''\n",
    "for track in gp_file.tracks:\n",
    "    for measure in track.measures:\n",
    "        tab += \"M: \"\n",
    "        for voice in measure.voices:\n",
    "            for beat in voice.beats:\n",
    "                #tab += \"B\"\n",
    "                for note in beat.notes:\n",
    "                    #print(note)\n",
    "                    tab += str(note.value)+\"on\"+str(note.string)\n",
    "                else:\n",
    "                    tab += '-'\n",
    "            tab += '|'\n",
    "       # tab += '\\n'"
   ]
  },
  {
   "cell_type": "code",
   "execution_count": 65,
   "id": "d0313df2",
   "metadata": {
    "scrolled": true
   },
   "outputs": [
    {
     "name": "stdout",
     "output_type": "stream",
     "text": [
      "M: 6on34on5-6on3-6on36on4-4on3-1on32on4-|-|M: 0on5-2on4-1on3-1on32on4-4on4-0on5-|-|\n"
     ]
    }
   ],
   "source": [
    "print(tab)"
   ]
  },
  {
   "cell_type": "code",
   "execution_count": 84,
   "id": "f9b4f04c",
   "metadata": {},
   "outputs": [
    {
     "name": "stdout",
     "output_type": "stream",
     "text": [
      "['MMM', 'NOTE', {'step': 'E', 'alter': None, 'octave': '3', 'duration': 1, 'voice': 1, 'type': 'quarter'}, 'NOTE', {'step': 'F', 'alter': None, 'octave': '4', 'duration': 1, 'voice': 1, 'type': 'quarter'}, 'NOTE', {'step': 'A', 'alter': '1', 'octave': '4', 'duration': 1, 'voice': 1, 'type': 'quarter'}, 'NOTE', {'step': 'F', 'alter': '1', 'octave': '5', 'duration': 1, 'voice': 1, 'type': 'quarter'}, 'NOTE', {'step': 'G', 'alter': '1', 'octave': '4', 'duration': 1, 'voice': 1, 'type': 'quarter'}, 'NOTE', {'step': 'E', 'alter': None, 'octave': '4', 'duration': 1, 'voice': 1, 'type': 'quarter'}, 'NOTE', {'step': 'C', 'alter': None, 'octave': '4', 'duration': 1, 'voice': 1, 'type': 'quarter'}, 'MMM']\n"
     ]
    }
   ],
   "source": [
    "# Extract the necessary information\n",
    "import xml.etree.ElementTree as ET\n",
    "\n",
    "tree = ET.parse('good.xml')\n",
    "root = tree.getroot()\n",
    "\n",
    "notes = []\n",
    "\n",
    "for measure in root.findall(\".//measure\"):\n",
    "    notes.append(\"MMM\")\n",
    "    for note in measure.findall(\".//note\"):\n",
    "        notes.append(\"NOTE\")\n",
    "        pitch = note.find('pitch')\n",
    "        step = pitch.find('step').text\n",
    "        octave = pitch.find('octave').text\n",
    "        alter = pitch.find('alter')\n",
    "        if alter is not None:\n",
    "            alter = alter.text\n",
    "        duration = int(note.find('duration').text)\n",
    "        voice = int(note.find('voice').text)\n",
    "        note_type = note.find('type').text\n",
    "        notes.append({\n",
    "            'step': step,\n",
    "            'alter': alter,\n",
    "            'octave': octave,\n",
    "            'duration': duration,\n",
    "            'voice': voice,\n",
    "            'type': note_type,\n",
    "        })\n",
    "\n",
    "print(notes)\n"
   ]
  },
  {
   "cell_type": "code",
   "execution_count": 85,
   "id": "2cad4ae7",
   "metadata": {
    "scrolled": false
   },
   "outputs": [],
   "source": [
    "import xml.etree.ElementTree as ET\n",
    "\n",
    "tree = ET.parse('good.xml')\n",
    "root = tree.getroot()\n",
    "\n",
    "notes = []\n",
    "\n",
    "for measure in root.findall(\".//measure\"):\n",
    "    notes.append(\"MMM\")\n",
    "    for note in measure.findall(\".//note\"):\n",
    "        notes.append(\"NOTE\")\n",
    "        technical = note.find('notations/technical')\n",
    "        if technical is not None:\n",
    "            string = technical.find('string').text\n",
    "            fret = technical.find('fret').text\n",
    "            notes.append({\n",
    "                'string': string,\n",
    "                'fret': fret\n",
    "            })\n"
   ]
  },
  {
   "cell_type": "code",
   "execution_count": 86,
   "id": "01e28f93",
   "metadata": {},
   "outputs": [
    {
     "data": {
      "text/plain": [
       "['MMM',\n",
       " 'NOTE',\n",
       " {'string': '6', 'fret': '0'},\n",
       " 'NOTE',\n",
       " {'string': '4', 'fret': '3'},\n",
       " 'NOTE',\n",
       " {'string': '3', 'fret': '3'},\n",
       " 'NOTE',\n",
       " {'string': '1', 'fret': '2'},\n",
       " 'NOTE',\n",
       " {'string': '3', 'fret': '1'},\n",
       " 'NOTE',\n",
       " {'string': '4', 'fret': '2'},\n",
       " 'NOTE',\n",
       " {'string': '5', 'fret': '3'},\n",
       " 'MMM']"
      ]
     },
     "execution_count": 86,
     "metadata": {},
     "output_type": "execute_result"
    }
   ],
   "source": [
    "notes"
   ]
  },
  {
   "cell_type": "code",
   "execution_count": 142,
   "id": "e8a808b7",
   "metadata": {},
   "outputs": [],
   "source": [
    "import xml.etree.ElementTree as ET\n",
    "\n",
    "tree = ET.parse('test2.xml')\n",
    "root = tree.getroot()\n",
    "\n",
    "notes = []\n",
    "chord_notes = []\n",
    "\n",
    "for measure in root.findall(\".//measure\"):\n",
    "    for note in measure.findall(\".//note\"):\n",
    "        technical = note.find('notations/technical')\n",
    "        if technical is not None:\n",
    "            string = technical.find('string').text\n",
    "            fret = technical.find('fret').text\n",
    "            t = note.find('type').text\n",
    "            notes.append({\n",
    "                'string': string,\n",
    "                'fret': fret,\n",
    "                'type' : t\n",
    "            })\n",
    "        \n",
    "        chord = note.find('chord')\n",
    "        if chord is not None:\n",
    "            chord_notes.append(len(notes)-1)\n",
    "\n",
    "            \n",
    "\n",
    "for idx in chord_notes:\n",
    "    notes[idx][\"</chord>\"] = True\n"
   ]
  },
  {
   "cell_type": "code",
   "execution_count": 143,
   "id": "187745dc",
   "metadata": {},
   "outputs": [
    {
     "data": {
      "text/plain": [
       "[{'string': '5', 'fret': '4', 'type': 'quarter'},\n",
       " {'string': '3', 'fret': '6', 'type': 'quarter', '</chord>': True},\n",
       " {'string': '3', 'fret': '6', 'type': 'eighth'},\n",
       " {'string': '4', 'fret': '6', 'type': 'quarter'},\n",
       " {'string': '3', 'fret': '6', 'type': 'quarter', '</chord>': True},\n",
       " {'string': '3', 'fret': '4', 'type': 'quarter'},\n",
       " {'string': '4', 'fret': '2', 'type': 'eighth'},\n",
       " {'string': '3', 'fret': '1', 'type': 'eighth', '</chord>': True},\n",
       " {'string': '5', 'fret': '0', 'type': 'eighth'},\n",
       " {'string': '4', 'fret': '2', 'type': 'eighth'},\n",
       " {'string': '3', 'fret': '1', 'type': 'eighth'},\n",
       " {'string': '4', 'fret': '2', 'type': 'quarter'},\n",
       " {'string': '3', 'fret': '1', 'type': 'quarter', '</chord>': True},\n",
       " {'string': '4', 'fret': '4', 'type': 'quarter'},\n",
       " {'string': '5', 'fret': '0', 'type': 'eighth'}]"
      ]
     },
     "execution_count": 143,
     "metadata": {},
     "output_type": "execute_result"
    }
   ],
   "source": [
    "notes"
   ]
  },
  {
   "cell_type": "code",
   "execution_count": 144,
   "id": "a7abd886",
   "metadata": {},
   "outputs": [],
   "source": [
    "import numpy as np\n",
    "\n",
    "# Define the vocabularies\n",
    "string_vocab = ['1', '2', '3', '4', '5', '6']\n",
    "fret_vocab = ['0', '1', '2', '3', '4', '5', '6', '7', '8', '9', '10', '11', '12']\n",
    "type_vocab = ['eighth','quarter', 'half', 'whole']\n",
    "chord_vocab = [False, True]\n",
    "\n",
    "# Encode each note as a one-hot vector\n",
    "def encode_note(note):\n",
    "    string_one_hot = np.zeros(len(string_vocab))\n",
    "    string_one_hot[string_vocab.index(note['string'])] = 1\n",
    "    fret_one_hot = np.zeros(len(fret_vocab))\n",
    "    fret_one_hot[fret_vocab.index(note['fret'])] = 1\n",
    "    type_one_hot = np.zeros(len(type_vocab))\n",
    "    type_one_hot[type_vocab.index(note['type'])] = 1\n",
    "    chord_one_hot = np.zeros(len(chord_vocab))\n",
    "    if '</chord>' in note:\n",
    "        chord_one_hot[chord_vocab.index(True)] = 1\n",
    "    else:\n",
    "        chord_one_hot[chord_vocab.index(False)] = 1\n",
    "    return np.concatenate([string_one_hot, fret_one_hot, type_one_hot, chord_one_hot])\n",
    "\n",
    "# Encode each measure as a matrix of note vectors\n",
    "def encode_measure(measure):\n",
    "    return np.array([encode_note(note) for note in measure])\n",
    "\n",
    "# Encode all measures as a list of matrices\n",
    "measures = [\n",
    "    encode_measure(notes),\n",
    "]\n",
    "\n"
   ]
  },
  {
   "cell_type": "code",
   "execution_count": 145,
   "id": "f08e3fae",
   "metadata": {},
   "outputs": [
    {
     "name": "stdout",
     "output_type": "stream",
     "text": [
      "[[0. 0. 0. 0. 1. 0. 0. 0. 0. 0. 1. 0. 0. 0. 0. 0. 0. 0. 0. 0. 1. 0. 0. 1.\n",
      "  0.]\n",
      " [0. 0. 1. 0. 0. 0. 0. 0. 0. 0. 0. 0. 1. 0. 0. 0. 0. 0. 0. 0. 1. 0. 0. 0.\n",
      "  1.]\n",
      " [0. 0. 1. 0. 0. 0. 0. 0. 0. 0. 0. 0. 1. 0. 0. 0. 0. 0. 0. 1. 0. 0. 0. 1.\n",
      "  0.]\n",
      " [0. 0. 0. 1. 0. 0. 0. 0. 0. 0. 0. 0. 1. 0. 0. 0. 0. 0. 0. 0. 1. 0. 0. 1.\n",
      "  0.]\n",
      " [0. 0. 1. 0. 0. 0. 0. 0. 0. 0. 0. 0. 1. 0. 0. 0. 0. 0. 0. 0. 1. 0. 0. 0.\n",
      "  1.]\n",
      " [0. 0. 1. 0. 0. 0. 0. 0. 0. 0. 1. 0. 0. 0. 0. 0. 0. 0. 0. 0. 1. 0. 0. 1.\n",
      "  0.]\n",
      " [0. 0. 0. 1. 0. 0. 0. 0. 1. 0. 0. 0. 0. 0. 0. 0. 0. 0. 0. 1. 0. 0. 0. 1.\n",
      "  0.]\n",
      " [0. 0. 1. 0. 0. 0. 0. 1. 0. 0. 0. 0. 0. 0. 0. 0. 0. 0. 0. 1. 0. 0. 0. 0.\n",
      "  1.]\n",
      " [0. 0. 0. 0. 1. 0. 1. 0. 0. 0. 0. 0. 0. 0. 0. 0. 0. 0. 0. 1. 0. 0. 0. 1.\n",
      "  0.]\n",
      " [0. 0. 0. 1. 0. 0. 0. 0. 1. 0. 0. 0. 0. 0. 0. 0. 0. 0. 0. 1. 0. 0. 0. 1.\n",
      "  0.]\n",
      " [0. 0. 1. 0. 0. 0. 0. 1. 0. 0. 0. 0. 0. 0. 0. 0. 0. 0. 0. 1. 0. 0. 0. 1.\n",
      "  0.]\n",
      " [0. 0. 0. 1. 0. 0. 0. 0. 1. 0. 0. 0. 0. 0. 0. 0. 0. 0. 0. 0. 1. 0. 0. 1.\n",
      "  0.]\n",
      " [0. 0. 1. 0. 0. 0. 0. 1. 0. 0. 0. 0. 0. 0. 0. 0. 0. 0. 0. 0. 1. 0. 0. 0.\n",
      "  1.]\n",
      " [0. 0. 0. 1. 0. 0. 0. 0. 0. 0. 1. 0. 0. 0. 0. 0. 0. 0. 0. 0. 1. 0. 0. 1.\n",
      "  0.]\n",
      " [0. 0. 0. 0. 1. 0. 1. 0. 0. 0. 0. 0. 0. 0. 0. 0. 0. 0. 0. 1. 0. 0. 0. 1.\n",
      "  0.]]\n"
     ]
    }
   ],
   "source": [
    "for i in measures:\n",
    "    print(i)"
   ]
  },
  {
   "cell_type": "code",
   "execution_count": null,
   "id": "baa02ff2",
   "metadata": {},
   "outputs": [],
   "source": []
  }
 ],
 "metadata": {
  "kernelspec": {
   "display_name": "Python 3 (ipykernel)",
   "language": "python",
   "name": "python3"
  },
  "language_info": {
   "codemirror_mode": {
    "name": "ipython",
    "version": 3
   },
   "file_extension": ".py",
   "mimetype": "text/x-python",
   "name": "python",
   "nbconvert_exporter": "python",
   "pygments_lexer": "ipython3",
   "version": "3.9.12"
  }
 },
 "nbformat": 4,
 "nbformat_minor": 5
}
